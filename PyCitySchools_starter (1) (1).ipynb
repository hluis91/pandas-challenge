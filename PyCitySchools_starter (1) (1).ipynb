{
 "cells": [
  {
   "cell_type": "markdown",
   "metadata": {},
   "source": [
    "### Note\n",
    "* Instructions have been included for each segment. You do not have to follow them exactly, but they are included to help you think through the steps."
   ]
  },
  {
   "cell_type": "code",
   "execution_count": null,
   "metadata": {},
   "outputs": [],
   "source": [
    "# Dependencies and Setup\n",
    "import pandas as pd\n",
    "\n",
    "# File to Load (Remember to Change These)\n",
    "school_data_to_load = r'C:\\Users\\lshrn\\Downloads\\schools_complete.csv'\n",
    "student_data_to_load = r'C:\\Users\\lshrn\\Downloads\\students_complete.csv'\n",
    "\n",
    "# Read School and Student Data File and store into Pandas DataFrames\n",
    "school_data_df= pd.read_csv(school_data_to_load)\n",
    "student_data_df= pd.read_csv(student_data_to_load)\n",
    "\n",
    "# Combine the data into a single dataset.  \n",
    "school_data_complete_df= pd.merge(student_data_df, school_data_df, how=\"left\", on=[\"school_name\", \"school_name\"])"
   ]
  },
  {
   "cell_type": "markdown",
   "metadata": {},
   "source": [
    "## District Summary\n",
    "\n",
    "* Calculate the total number of schools\n",
    "\n",
    "* Calculate the total number of students\n",
    "\n",
    "* Calculate the total budget\n",
    "\n",
    "* Calculate the average math score \n",
    "\n",
    "* Calculate the average reading score\n",
    "\n",
    "* Calculate the percentage of students with a passing math score (70 or greater)\n",
    "\n",
    "* Calculate the percentage of students with a passing reading score (70 or greater)\n",
    "\n",
    "* Calculate the percentage of students who passed math **and** reading (% Overall Passing)\n",
    "\n",
    "* Create a dataframe to hold the above results\n",
    "\n",
    "* Optional: give the displayed data cleaner formatting"
   ]
  },
  {
   "cell_type": "code",
   "execution_count": null,
   "metadata": {},
   "outputs": [],
   "source": [
    "#Calculate the total number of schools\n",
    "total_schools = school_data_complete_df.value_counts('school_name')\n",
    "total_schools = len(total_schools)\n"
   ]
  },
  {
   "cell_type": "code",
   "execution_count": null,
   "metadata": {},
   "outputs": [],
   "source": [
    "#Calculate the total number of students\n",
    "total_students = school_data_complete_df.value_counts('Student ID')\n",
    "total_students = len(total_students)\n"
   ]
  },
  {
   "cell_type": "code",
   "execution_count": null,
   "metadata": {},
   "outputs": [],
   "source": [
    "#Calculate the total budget\n",
    "total_budget = school_data_df['budget'].sum()\n"
   ]
  },
  {
   "cell_type": "code",
   "execution_count": null,
   "metadata": {},
   "outputs": [],
   "source": [
    "#Calculate the average math score\n",
    "mathscore_average = school_data_complete_df['math_score'].mean()\n"
   ]
  },
  {
   "cell_type": "code",
   "execution_count": null,
   "metadata": {},
   "outputs": [],
   "source": [
    "#Calculate the average reading score\n",
    "readingscore_average = school_data_complete_df['reading_score'].mean()\n"
   ]
  },
  {
   "cell_type": "code",
   "execution_count": null,
   "metadata": {},
   "outputs": [],
   "source": [
    "#Calculate the percentage of students with a passing math score (70 or greater)\n",
    "math_percent_index = school_data_complete_df['math_score']>=70\n",
    "pass_math_df = school_data_complete_df[math_percent_index]\n",
    "students_passing_math = pass_math_df['Student ID'].count()\n",
    "percent_pass_math = (students_passing_math/total_students)*100\n"
   ]
  },
  {
   "cell_type": "code",
   "execution_count": null,
   "metadata": {},
   "outputs": [],
   "source": [
    "#Calculate the percentage of students with a passing reading score (70 or greater)\n",
    "reading_percent_index = school_data_complete_df['reading_score']>=70\n",
    "pass_reading_df = school_data_complete_df[reading_percent_index]\n",
    "students_passing_reading = pass_reading_df['Student ID'].count()\n",
    "percent_pass_reading = (students_passing_reading/total_students)*100\n"
   ]
  },
  {
   "cell_type": "code",
   "execution_count": null,
   "metadata": {},
   "outputs": [],
   "source": [
    "#Calculate the percentage of students who passed math and reading (% Overall Passing)\n",
    "math_and_reading_index = math_percent_index & reading_percent_index\n",
    "students_passsing_both_df = school_data_complete_df[math_and_reading_index]\n",
    "number_of_students_both = students_passsing_both_df['Student ID'].count()\n",
    "percent_for_both = (number_of_students_both/total_students)*100\n",
    "\n"
   ]
  },
  {
   "cell_type": "code",
   "execution_count": null,
   "metadata": {},
   "outputs": [],
   "source": [
    "#Create DataFrame\n",
    "name_columns = {' Total Schools': [total_schools], 'Total Students': [total_students],\n",
    "           'Total Budget': [total_budget], 'Average Math Score': [mathscore_average],\n",
    "           'Average Reading Score': [readingscore_average], '% Passing Math': [percent_pass_math],\n",
    "           '% Passing Reading': [percent_pass_reading], '% Overall Passing': [percent_for_both]}\n",
    "District_Summary = pd.DataFrame(name_columns)\n",
    "District_Summary"
   ]
  },
  {
   "cell_type": "markdown",
   "metadata": {},
   "source": [
    "## School Summary"
   ]
  },
  {
   "cell_type": "markdown",
   "metadata": {},
   "source": [
    "* Create an overview table that summarizes key metrics about each school, including:\n",
    "  * School Name\n",
    "  * School Type\n",
    "  * Total Students\n",
    "  * Total School Budget\n",
    "  * Per Student Budget\n",
    "  * Average Math Score\n",
    "  * Average Reading Score\n",
    "  * % Passing Math\n",
    "  * % Passing Reading\n",
    "  * % Overall Passing (The percentage of students that passed math **and** reading.)\n",
    "  \n",
    "* Create a dataframe to hold the above results"
   ]
  },
  {
   "cell_type": "code",
   "execution_count": null,
   "metadata": {},
   "outputs": [],
   "source": [
    "#Creating groupby for all data\n",
    "school_complete_gb = school_data_complete_df.groupby('school_name')\n",
    "max_columns = ['type','size', 'budget']\n",
    "school_summary_df = school_complete_gb.max()[max_columns]\n"
   ]
  },
  {
   "cell_type": "code",
   "execution_count": null,
   "metadata": {},
   "outputs": [],
   "source": [
    "#Calculate per student budget\n",
    "school_budgets_s =  school_summary_df['budget']\n",
    "size_s = school_summary_df['size']\n",
    "per_student_budget_s = school_budgets_s/size_s\n",
    "school_summary_df['Per Student Budget'] = per_student_budget_s\n"
   ]
  },
  {
   "cell_type": "code",
   "execution_count": null,
   "metadata": {},
   "outputs": [],
   "source": [
    "#Mean of reading and math\n",
    "mean_columns = ['math_score', 'reading_score']\n",
    "school_mean_summary_df = school_complete_gb.mean()[mean_columns]\n",
    "school_mean_summary_df\n",
    "school_summary_df = school_summary_df.join(school_mean_summary_df)"
   ]
  },
  {
   "cell_type": "code",
   "execution_count": null,
   "metadata": {},
   "outputs": [],
   "source": [
    "#  % Passing Math\n",
    "math_gb = pass_math_df.groupby('school_name')\n",
    "#school_summary_df = school_complete_gb.max()[max_columns]\n",
    "number_passing_math_s = math_gb.count()['Student ID']\n",
    "percent_math_passing_s = (number_passing_math_s/school_summary_df['size'])*100\n",
    "school_summary_df['% Passing Math'] = percent_math_passing_s"
   ]
  },
  {
   "cell_type": "code",
   "execution_count": null,
   "metadata": {},
   "outputs": [],
   "source": [
    "#  % Passing Reading\n",
    "reading_gb = pass_reading_df.groupby('school_name')\n",
    "#school_summary_df = school_complete_gb.max()[max_columns]\n",
    "number_passing_reading_s = reading_gb.count()['Student ID']\n",
    "percent_reading_passing_s = (number_passing_reading_s/school_summary_df['size'])*100\n",
    "school_summary_df['% Passing Reading'] = percent_reading_passing_s"
   ]
  },
  {
   "cell_type": "code",
   "execution_count": null,
   "metadata": {
    "scrolled": true
   },
   "outputs": [],
   "source": [
    "#% Overall Passing (The percentage of students that passed math and reading\n",
    "overall_pass_gb = students_passsing_both_df.groupby('school_name')\n",
    "pass_both_overall_s = overall_pass_gb.count()['Student ID']\n",
    "percent_overall_pass_s = (pass_both_overall_s/school_summary_df['size'])*100\n",
    "school_summary_df['% Overall Passing'] = percent_overall_pass_s"
   ]
  },
  {
   "cell_type": "code",
   "execution_count": null,
   "metadata": {},
   "outputs": [],
   "source": [
    "#Rename columns\n",
    "columns_renaming = {\"type\": \"School Type\", \"size\": \"Total Students\", \"budget\": \"Total School Budget\",\n",
    "                     \"math_score\": \"Average Math Score\", \"reading_score\": \"Average Reading Score\", }\n",
    " \n",
    "School_Summary_Result_df = school_summary_df.rename(columns=columns_renaming)\n",
    "School_Summary_Result_df"
   ]
  },
  {
   "cell_type": "markdown",
   "metadata": {},
   "source": [
    "## Top Performing Schools (By % Overall Passing)"
   ]
  },
  {
   "cell_type": "markdown",
   "metadata": {},
   "source": [
    "* Sort and display the top five performing schools by % overall passing."
   ]
  },
  {
   "cell_type": "code",
   "execution_count": null,
   "metadata": {},
   "outputs": [],
   "source": [
    "#Top five performing schools\n",
    "top_five_df = School_Summary_Result_df.sort_values(['% Overall Passing'], ascending = False).head(5)\n",
    "top_five_df"
   ]
  },
  {
   "cell_type": "markdown",
   "metadata": {},
   "source": [
    "## Bottom Performing Schools (By % Overall Passing)"
   ]
  },
  {
   "cell_type": "markdown",
   "metadata": {},
   "source": [
    "* Sort and display the five worst-performing schools by % overall passing."
   ]
  },
  {
   "cell_type": "code",
   "execution_count": null,
   "metadata": {},
   "outputs": [],
   "source": [
    "#Bottom Performing Schools\n",
    "bottom_five_df = School_Summary_Result_df.sort_values(['% Overall Passing'], ascending=False).tail(5)\n",
    "bottom_five_df"
   ]
  },
  {
   "cell_type": "markdown",
   "metadata": {
    "collapsed": true
   },
   "source": [
    "## Math Scores by Grade"
   ]
  },
  {
   "cell_type": "markdown",
   "metadata": {},
   "source": [
    "* Create a table that lists the average Reading Score for students of each grade level (9th, 10th, 11th, 12th) at each school.\n",
    "\n",
    "  * Create a pandas series for each grade. Hint: use a conditional statement.\n",
    "  \n",
    "  * Group each series by school\n",
    "  \n",
    "  * Combine the series into a dataframe\n",
    "  \n",
    "  * Optional: give the displayed data cleaner formatting"
   ]
  },
  {
   "cell_type": "code",
   "execution_count": null,
   "metadata": {},
   "outputs": [],
   "source": [
    "#Strings for All grade levels\n",
    "#9th Grade String\n",
    "ninth_grade_s = school_data_complete_df[(school_data_complete_df.grade == \"9th\")]\n",
    "#10th Grade String\n",
    "tenth_grade_s = school_data_complete_df[(school_data_complete_df.grade == \"10th\")]\n",
    "#11th Grade String\n",
    "eleventh_grade_s = school_data_complete_df[(school_data_complete_df.grade == \"11th\")]\n",
    "#12th Grade String/gb\n",
    "twelfth_grade_s = school_data_complete_df[(school_data_complete_df.grade == \"12th\")]"
   ]
  },
  {
   "cell_type": "code",
   "execution_count": null,
   "metadata": {},
   "outputs": [],
   "source": [
    "#Groupby for All grade levels\n",
    "#9th Grade gb\n",
    "ninth_grade_gp = ninth_grade_s.groupby(['school_name']).mean()['math_score']\n",
    "#10th Grade gb\n",
    "tenth_grade_gp = tenth_grade_s.groupby(['school_name']).mean()['math_score']\n",
    "#11th Grade gb\n",
    "eleventh_grade_gp = eleventh_grade_s.groupby(['school_name']).mean()['math_score']\n",
    "#12th Grade gb\n",
    "twelfth_grade_gp = twelfth_grade_s.groupby(['school_name']).mean()['math_score']"
   ]
  },
  {
   "cell_type": "code",
   "execution_count": null,
   "metadata": {
    "scrolled": true
   },
   "outputs": [],
   "source": [
    "#Math scores by grade\n",
    "math_columns = ({'9th':ninth_grade_gp.map('{:.1f}'.format),\n",
    "                            '10th':tenth_grade_gp.map('{:.1f}'.format),\n",
    "                            '11th':eleventh_grade_gp.map('{:.1f}'.format),\n",
    "                            '12th':twelfth_grade_gp.map('{:.1f}'.format)})\n",
    "math_scores_avg_df = pd.DataFrame(math_columns)\n",
    "math_scores_avg_df"
   ]
  },
  {
   "cell_type": "raw",
   "metadata": {},
   "source": [
    "## Reading Score by Grade "
   ]
  },
  {
   "cell_type": "markdown",
   "metadata": {},
   "source": [
    "* Perform the same operations as above for reading scores"
   ]
  },
  {
   "cell_type": "code",
   "execution_count": null,
   "metadata": {},
   "outputs": [],
   "source": [
    "#Strings for All grade levels\n",
    "#9th Grade String\n",
    "ninth_grade_s = school_data_complete_df[(school_data_complete_df.grade == \"9th\")]\n",
    "#10th Grade String\n",
    "tenth_grade_s = school_data_complete_df[(school_data_complete_df.grade == \"10th\")]\n",
    "#11th Grade String\n",
    "eleventh_grade_s = school_data_complete_df[(school_data_complete_df.grade == \"11th\")]\n",
    "#12th Grade String\n",
    "twelfth_grade_s = school_data_complete_df[(school_data_complete_df.grade == \"12th\")]"
   ]
  },
  {
   "cell_type": "code",
   "execution_count": null,
   "metadata": {},
   "outputs": [],
   "source": [
    "#groupby for All grade levels\n",
    "#9th Grade gb\n",
    "ninth_grade_gp = ninth_grade_s.groupby(['school_name']).mean()['reading_score']\n",
    "#10th Grade gb\n",
    "tenth_grade_gp = tenth_grade_s.groupby(['school_name']).mean()['reading_score']\n",
    "#11th Grade gb\n",
    "eleventh_grade_gp = eleventh_grade_s.groupby(['school_name']).mean()['reading_score']\n",
    "#12th Grade gb\n",
    "twelfth_grade_gp = twelfth_grade_s.groupby(['school_name']).mean()['reading_score']"
   ]
  },
  {
   "cell_type": "code",
   "execution_count": null,
   "metadata": {},
   "outputs": [],
   "source": [
    "#Reading scores by grade\n",
    "reading_scores_avg_df = pd.DataFrame({'9th':ninth_grade_gp.map('{:.1f}'.format),\n",
    "                            '10th':tenth_grade_gp.map('{:.1f}'.format),\n",
    "                            '11th':eleventh_grade_gp.map('{:.1f}'.format),\n",
    "                            '12th':twelfth_grade_gp.map('{:.1f}'.format)})\n",
    "reading_scores_avg_df"
   ]
  },
  {
   "cell_type": "markdown",
   "metadata": {},
   "source": [
    "## Scores by School Spending"
   ]
  },
  {
   "cell_type": "markdown",
   "metadata": {},
   "source": [
    "* Create a table that breaks down school performances based on average Spending Ranges (Per Student). Use 4 reasonable bins to group school spending. Include in the table each of the following:\n",
    "  * Average Math Score\n",
    "  * Average Reading Score\n",
    "  * % Passing Math\n",
    "  * % Passing Reading\n",
    "  * Overall Passing Rate (Average of the above two)"
   ]
  },
  {
   "cell_type": "code",
   "execution_count": null,
   "metadata": {},
   "outputs": [],
   "source": [
    "#Create spending bins\n",
    "money_bins = [0,585,630,645,675]\n",
    "spending_ranges = [\"<$584\", \"$585-630\", \"$630-645\", \"$645-680\"]\n",
    "#Put student budget into bins\n",
    "student_budget_s = pd.cut(per_student_budget_s, money_bins, labels = spending_ranges)\n",
    "#Include \"Spending Ranges\" into DF\n",
    "School_Summary_Result_df['Spending Ranges (Per Student)'] = pd.Series(student_budget_s)\n",
    "#Create groupby from series\n",
    "spending_math_scores_s = School_Summary_Result_df.groupby(['Spending Ranges (Per Student)'])['Average Math Score'].agg('mean')\n",
    "spending_reading_scores_s = School_Summary_Result_df.groupby(['Spending Ranges (Per Student)'])['Average Reading Score'].agg('mean')\n",
    "spending_passing_math_s = School_Summary_Result_df.groupby(['Spending Ranges (Per Student)'])['% Passing Math'].agg('mean')\n",
    "spending_passing_reading_s = School_Summary_Result_df.groupby(['Spending Ranges (Per Student)'])['% Passing Reading'].agg('mean')\n",
    "spending_overall_passing_percentage_s = School_Summary_Result_df.groupby(['Spending Ranges (Per Student)'])['% Overall Passing'].agg('mean')\n",
    "\n",
    "#final dataframe\n",
    "spending_school_summary_df = pd.DataFrame({\"Average Math Score\" : spending_math_scores_s.map('{:.1f}'.format),\n",
    "          \"Average Reading Score\": spending_reading_scores_s.map('{:.1f}'.format),\n",
    "          \"% Passing Math\": spending_passing_math_s.map('{:.0f}'.format),\n",
    "          \"% Passing Reading\": spending_passing_reading_s.map('{:.0f}'.format),\n",
    "          \"% Overall Passing\": spending_overall_passing_percentage_s.map('{:.0f}'.format)})\n",
    "spending_school_summary_df\n"
   ]
  },
  {
   "cell_type": "markdown",
   "metadata": {},
   "source": [
    "## Scores by School Size"
   ]
  },
  {
   "cell_type": "markdown",
   "metadata": {},
   "source": [
    "* Perform the same operations as above, based on school size."
   ]
  },
  {
   "cell_type": "code",
   "execution_count": null,
   "metadata": {
    "scrolled": true
   },
   "outputs": [],
   "source": [
    "#Create size bins\n",
    "size_bins = [0,1000,2000,5000]\n",
    "size_bins_labes = ['Small(<1000)', 'Medium(1000-2000)', 'Large(2000-5000)']\n",
    "#Label size bins for DF\n",
    "student_size_s = pd.cut(School_Summary_Result_df['Total Students'], size_bins, labels = size_bins_labes)\n",
    "#Add size bins into DF\n",
    "School_Summary_Result_df['School Size Bins'] = pd.Series(student_size_s)\n",
    "#Create groupby from series\n",
    "size_math_scores_s = School_Summary_Result_df.groupby(['School Size Bins'])['Average Math Score'].agg('mean')\n",
    "size_reading_scores_s = School_Summary_Result_df.groupby(['School Size Bins'])['Average Reading Score'].agg('mean')\n",
    "size_passing_math_s = School_Summary_Result_df.groupby(['School Size Bins'])['% Passing Math'].agg('mean')\n",
    "size_passing_reading_s = School_Summary_Result_df.groupby(['School Size Bins'])['% Passing Reading'].agg('mean')\n",
    "size_overall_passing_percentage_s = School_Summary_Result_df.groupby(['School Size Bins'])['% Overall Passing'].agg('mean')\n",
    "\n",
    "#final dataframe\n",
    "size_school_summary_df = pd.DataFrame({\"Average Math Score\" : size_math_scores_s.map('{:.1f}'.format),\n",
    "          \"Average Reading Score\": size_reading_scores_s.map('{:.1f}'.format),\n",
    "          \"% Passing Math\": size_passing_math_s.map('{:.0f}'.format),\n",
    "          \"% Passing Reading\": size_passing_reading_s.map('{:.0f}'.format),\n",
    "          \"% Overall Passing\": size_overall_passing_percentage_s.map('{:.0f}'.format)})\n",
    "size_school_summary_df"
   ]
  },
  {
   "cell_type": "markdown",
   "metadata": {},
   "source": [
    "## Scores by School Type"
   ]
  },
  {
   "cell_type": "markdown",
   "metadata": {},
   "source": [
    "* Perform the same operations as above, based on school type"
   ]
  },
  {
   "cell_type": "code",
   "execution_count": null,
   "metadata": {},
   "outputs": [],
   "source": [
    "#Create groupby from series\n",
    "type_math_scores_s = School_Summary_Result_df.groupby(['School Type'])['Average Math Score'].agg('mean')\n",
    "type_reading_scores_s = School_Summary_Result_df.groupby(['School Type'])['Average Reading Score'].agg('mean')\n",
    "type_passing_math_s = School_Summary_Result_df.groupby(['School Type'])['% Passing Math'].agg('mean')\n",
    "type_passing_reading_s = School_Summary_Result_df.groupby(['School Type'])['% Passing Reading'].agg('mean')\n",
    "type_overall_passing_percentage_s = School_Summary_Result_df.groupby(['School Type'])['% Overall Passing'].agg('mean')\n",
    "\n",
    "#final dataframe\n",
    "type_school_summary_df = pd.DataFrame({\"Average Math Score\" : type_math_scores_s.map('{:.1f}'.format),\n",
    "          \"Average Reading Score\": type_reading_scores_s.map('{:.1f}'.format),\n",
    "          \"% Passing Math\": type_passing_math_s.map('{:.0f}'.format),\n",
    "          \"% Passing Reading\": type_passing_reading_s.map('{:.0f}'.format),\n",
    "          \"% Overall Passing\": type_overall_passing_percentage_s.map('{:.0f}'.format)})\n",
    "type_school_summary_df"
   ]
  }
 ],
 "metadata": {
  "anaconda-cloud": {},
  "kernel_info": {
   "name": "python3"
  },
  "kernelspec": {
   "display_name": "Python 3 (ipykernel)",
   "language": "python",
   "name": "python3"
  },
  "language_info": {
   "codemirror_mode": {
    "name": "ipython",
    "version": 3
   },
   "file_extension": ".py",
   "mimetype": "text/x-python",
   "name": "python",
   "nbconvert_exporter": "python",
   "pygments_lexer": "ipython3",
   "version": "3.9.7"
  },
  "latex_envs": {
   "LaTeX_envs_menu_present": true,
   "autoclose": false,
   "autocomplete": true,
   "bibliofile": "biblio.bib",
   "cite_by": "apalike",
   "current_citInitial": 1,
   "eqLabelWithNumbers": true,
   "eqNumInitial": 1,
   "hotkeys": {
    "equation": "Ctrl-E",
    "itemize": "Ctrl-I"
   },
   "labels_anchors": false,
   "latex_user_defs": false,
   "report_style_numbering": false,
   "user_envs_cfg": false
  },
  "nteract": {
   "version": "0.8.4"
  }
 },
 "nbformat": 4,
 "nbformat_minor": 1
}
